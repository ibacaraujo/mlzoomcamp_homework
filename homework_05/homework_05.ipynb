{
  "nbformat": 4,
  "nbformat_minor": 0,
  "metadata": {
    "colab": {
      "provenance": []
    },
    "kernelspec": {
      "name": "python3",
      "display_name": "Python 3"
    },
    "language_info": {
      "name": "python"
    }
  },
  "cells": [
    {
      "cell_type": "code",
      "execution_count": 1,
      "metadata": {
        "id": "CuunJ6KB_ebC"
      },
      "outputs": [],
      "source": [
        "import pandas as pd\n",
        "import numpy as np"
      ]
    },
    {
      "cell_type": "code",
      "source": [
        "!pip install pipenv"
      ],
      "metadata": {
        "colab": {
          "base_uri": "https://localhost:8080/"
        },
        "id": "HH63SAb6_oI4",
        "outputId": "32626860-5293-450c-818e-4f4a37b8d5c0"
      },
      "execution_count": 2,
      "outputs": [
        {
          "output_type": "stream",
          "name": "stdout",
          "text": [
            "Collecting pipenv\n",
            "  Downloading pipenv-2024.2.0-py3-none-any.whl.metadata (19 kB)\n",
            "Requirement already satisfied: certifi in /usr/local/lib/python3.10/dist-packages (from pipenv) (2024.8.30)\n",
            "Requirement already satisfied: packaging>=22 in /usr/local/lib/python3.10/dist-packages (from pipenv) (24.1)\n",
            "Requirement already satisfied: setuptools>=67 in /usr/local/lib/python3.10/dist-packages (from pipenv) (75.1.0)\n",
            "Collecting virtualenv>=20.24.2 (from pipenv)\n",
            "  Downloading virtualenv-20.27.1-py3-none-any.whl.metadata (4.5 kB)\n",
            "Collecting distlib<1,>=0.3.7 (from virtualenv>=20.24.2->pipenv)\n",
            "  Downloading distlib-0.3.9-py2.py3-none-any.whl.metadata (5.2 kB)\n",
            "Requirement already satisfied: filelock<4,>=3.12.2 in /usr/local/lib/python3.10/dist-packages (from virtualenv>=20.24.2->pipenv) (3.16.1)\n",
            "Requirement already satisfied: platformdirs<5,>=3.9.1 in /usr/local/lib/python3.10/dist-packages (from virtualenv>=20.24.2->pipenv) (4.3.6)\n",
            "Downloading pipenv-2024.2.0-py3-none-any.whl (3.0 MB)\n",
            "\u001b[2K   \u001b[90m━━━━━━━━━━━━━━━━━━━━━━━━━━━━━━━━━━━━━━━━\u001b[0m \u001b[32m3.0/3.0 MB\u001b[0m \u001b[31m26.9 MB/s\u001b[0m eta \u001b[36m0:00:00\u001b[0m\n",
            "\u001b[?25hDownloading virtualenv-20.27.1-py3-none-any.whl (3.1 MB)\n",
            "\u001b[2K   \u001b[90m━━━━━━━━━━━━━━━━━━━━━━━━━━━━━━━━━━━━━━━━\u001b[0m \u001b[32m3.1/3.1 MB\u001b[0m \u001b[31m34.9 MB/s\u001b[0m eta \u001b[36m0:00:00\u001b[0m\n",
            "\u001b[?25hDownloading distlib-0.3.9-py2.py3-none-any.whl (468 kB)\n",
            "\u001b[2K   \u001b[90m━━━━━━━━━━━━━━━━━━━━━━━━━━━━━━━━━━━━━━━━\u001b[0m \u001b[32m469.0/469.0 kB\u001b[0m \u001b[31m21.1 MB/s\u001b[0m eta \u001b[36m0:00:00\u001b[0m\n",
            "\u001b[?25hInstalling collected packages: distlib, virtualenv, pipenv\n",
            "Successfully installed distlib-0.3.9 pipenv-2024.2.0 virtualenv-20.27.1\n"
          ]
        }
      ]
    },
    {
      "cell_type": "code",
      "source": [
        "import pipenv"
      ],
      "metadata": {
        "id": "P6cHPr_p_th5"
      },
      "execution_count": 4,
      "outputs": []
    },
    {
      "cell_type": "code",
      "source": [
        "pipenv.__version__"
      ],
      "metadata": {
        "colab": {
          "base_uri": "https://localhost:8080/",
          "height": 35
        },
        "id": "e8-07fMg_w01",
        "outputId": "8bff199b-54f6-4ba8-b7a1-6798f418fd09"
      },
      "execution_count": 5,
      "outputs": [
        {
          "output_type": "execute_result",
          "data": {
            "text/plain": [
              "'2024.2.0'"
            ],
            "application/vnd.google.colaboratory.intrinsic+json": {
              "type": "string"
            }
          },
          "metadata": {},
          "execution_count": 5
        }
      ]
    },
    {
      "cell_type": "markdown",
      "source": [
        "Question 01. '2024.2.0'."
      ],
      "metadata": {
        "id": "W77J2Y3J_zgM"
      }
    },
    {
      "cell_type": "code",
      "source": [
        "%cd homework"
      ],
      "metadata": {
        "colab": {
          "base_uri": "https://localhost:8080/"
        },
        "id": "RTOY9N74__en",
        "outputId": "4136c477-4589-4c82-9735-a5ee5ff596a4"
      },
      "execution_count": 6,
      "outputs": [
        {
          "output_type": "stream",
          "name": "stdout",
          "text": [
            "/content/homework\n"
          ]
        }
      ]
    },
    {
      "cell_type": "code",
      "source": [
        "!pipenv install scikit-learn==1.5.2"
      ],
      "metadata": {
        "colab": {
          "base_uri": "https://localhost:8080/"
        },
        "id": "INKn3zGMABft",
        "outputId": "257c2a12-a1c1-477d-bde3-8e9b2cc9beb8"
      },
      "execution_count": 8,
      "outputs": [
        {
          "output_type": "stream",
          "name": "stdout",
          "text": [
            "\u001b[1mCreating a virtualenv for this project\u001b[0m\n",
            "Pipfile: \u001b[1;33m/content/homework/\u001b[0m\u001b[1;33mPipfile\u001b[0m\n",
            "\u001b[1mUsing default python from\u001b[0m \u001b[1;33m/usr/bin/\u001b[0m\u001b[1;33mpython3\u001b[0m\u001b[32m3.10.12\u001b[0m\u001b[32m \u001b[0m\u001b[1;32mto create virtualenv\u001b[0m\u001b[1;32m...\u001b[0m\n",
            "\u001b[2K\u001b[32m⠧\u001b[0m Creating virtual environment...\u001b[36mcreated virtual environment CPython3.\u001b[0m\u001b[1;36m10.12\u001b[0m\u001b[36m.final.\u001b[0m\u001b[1;36m0\u001b[0m\u001b[36m-\u001b[0m\u001b[1;36m64\u001b[0m\u001b[36m in 1241ms\u001b[0m\n",
            "\u001b[36m  creator \u001b[0m\u001b[1;36mCPython3Posix\u001b[0m\u001b[1;36m(\u001b[0m\u001b[36mdest\u001b[0m\u001b[36m=\u001b[0m\u001b[36m/root/.local/share/virtualenvs/\u001b[0m\u001b[36mhomework-g_UZGQqG\u001b[0m\u001b[36m, \u001b[0m\u001b[36mclear\u001b[0m\u001b[36m=\u001b[0m\u001b[3;36mFalse\u001b[0m\u001b[36m, \u001b[0m\n",
            "\u001b[36mno_vcs_ignore\u001b[0m\u001b[36m=\u001b[0m\u001b[3;36mFalse\u001b[0m\u001b[36m, \u001b[0m\u001b[36mglobal\u001b[0m\u001b[36m=\u001b[0m\u001b[3;36mFalse\u001b[0m\u001b[1;36m)\u001b[0m\n",
            "\u001b[36m  seeder \u001b[0m\u001b[1;36mFromAppData\u001b[0m\u001b[1;36m(\u001b[0m\u001b[36mdownload\u001b[0m\u001b[36m=\u001b[0m\u001b[3;36mFalse\u001b[0m\u001b[36m, \u001b[0m\u001b[36mpip\u001b[0m\u001b[36m=\u001b[0m\u001b[36mbundle\u001b[0m\u001b[36m, \u001b[0m\u001b[36msetuptools\u001b[0m\u001b[36m=\u001b[0m\u001b[36mbundle\u001b[0m\u001b[36m, \u001b[0m\u001b[36mwheel\u001b[0m\u001b[36m=\u001b[0m\u001b[36mbundle\u001b[0m\u001b[36m, \u001b[0m\u001b[36mvia\u001b[0m\u001b[36m=\u001b[0m\u001b[36mcopy\u001b[0m\u001b[36m, \u001b[0m\n",
            "\u001b[36mapp_data_dir\u001b[0m\u001b[36m=\u001b[0m\u001b[36m/root/.local/share/\u001b[0m\u001b[36mvirtualenv\u001b[0m\u001b[1;36m)\u001b[0m\n",
            "\u001b[36m    added seed packages: \u001b[0m\u001b[36mpip\u001b[0m\u001b[36m==\u001b[0m\u001b[1;36m24.3\u001b[0m\u001b[36m.\u001b[0m\u001b[1;36m1\u001b[0m\u001b[36m, \u001b[0m\u001b[36msetuptools\u001b[0m\u001b[36m==\u001b[0m\u001b[1;36m75.2\u001b[0m\u001b[36m.\u001b[0m\u001b[1;36m0\u001b[0m\u001b[36m, \u001b[0m\u001b[36mwheel\u001b[0m\u001b[36m==\u001b[0m\u001b[1;36m0.44\u001b[0m\u001b[36m.\u001b[0m\u001b[1;36m0\u001b[0m\n",
            "\u001b[36m  activators \u001b[0m\n",
            "\u001b[36mBashActivator,CShellActivator,FishActivator,NushellActivator,PowerShellActivator,PythonActivator\u001b[0m\n",
            "\n",
            "✔ Successfully created virtual environment!\n",
            "\u001b[2K\u001b[32m⠇\u001b[0m Creating virtual environment...\n",
            "\u001b[1A\u001b[2K\u001b[32mVirtualenv location: \u001b[0m\u001b[32m/root/.local/share/virtualenvs/\u001b[0m\u001b[32mhomework-g_UZGQqG\u001b[0m\n",
            "\u001b[1mCreating a Pipfile for this project\u001b[0m\u001b[1;33m...\u001b[0m\n",
            "\u001b[1mPipfile.lock not found, creating\u001b[0m\u001b[1;33m...\u001b[0m\n",
            "Locking\u001b[0m \u001b[33m[packages]\u001b[0m dependencies...\u001b[0m\n",
            "Locking\u001b[0m \u001b[33m[dev-packages]\u001b[0m dependencies...\u001b[0m\n",
            "\u001b[1mUpdated Pipfile.lock (fedbd2ab7afd84cf16f128af0619749267b62277b4cb6989ef16d4bef6e4eef2)!\u001b[0m\n",
            "To activate this project's virtualenv, run \u001b[33mpipenv shell\u001b[0m.\n",
            "Alternatively, run a command inside the virtualenv with \u001b[33mpipenv run\u001b[0m.\n",
            "\u001b[1;32mInstalling scikit-learn==1.5.2...\u001b[0m\n",
            "✔ Installation Succeeded\n",
            "\u001b[?25lBuilding requirements...\n",
            "\u001b[2KResolving dependencies...\n",
            "\u001b[2K✔ Success!\n",
            "\u001b[2K\u001b[32m⠴\u001b[0m Locking packages...\n",
            "\u001b[1A\u001b[2K\u001b[?25lBuilding requirements...\n",
            "\u001b[2KResolving dependencies...\n",
            "\u001b[2K✔ Success!\n",
            "\u001b[2K\u001b[32m⠼\u001b[0m Locking packages...\n",
            "\u001b[1A\u001b[2KTo activate this project's virtualenv, run \u001b[33mpipenv shell\u001b[0m.\n",
            "Alternatively, run a command inside the virtualenv with \u001b[33mpipenv run\u001b[0m.\n",
            "\u001b[1mInstalling dependencies from Pipfile.lock (0b43dd)...\u001b[0m\n",
            "\u001b[32mAll dependencies are now up-to-date!\u001b[0m\n",
            "\u001b[1mInstalling dependencies from Pipfile.lock (0b43dd)...\u001b[0m\n"
          ]
        }
      ]
    },
    {
      "cell_type": "markdown",
      "source": [
        "Question 02. \"sha256:03b6158efa3faaf1feea3faa884c840ebd61b6484167c711548fce208ea09445\"."
      ],
      "metadata": {
        "id": "1W7dFxM6AtrJ"
      }
    },
    {
      "cell_type": "code",
      "source": [
        "import subprocess"
      ],
      "metadata": {
        "id": "oFELU0pTBMAM"
      },
      "execution_count": 15,
      "outputs": []
    },
    {
      "cell_type": "code",
      "source": [
        "prefix = \"https://raw.githubusercontent.com/DataTalksClub/machine-learning-zoomcamp/master/cohorts/2024/05-deployment/homework\"\n",
        "file_url = f\"{prefix}/model1.bin\"\n",
        "subprocess.run([\"wget\", file_url])"
      ],
      "metadata": {
        "colab": {
          "base_uri": "https://localhost:8080/"
        },
        "id": "czWlySkFA0CD",
        "outputId": "52f086d7-1d35-4d8a-b0a5-3995a49e453c"
      },
      "execution_count": 16,
      "outputs": [
        {
          "output_type": "execute_result",
          "data": {
            "text/plain": [
              "CompletedProcess(args=['wget', 'https://raw.githubusercontent.com/DataTalksClub/machine-learning-zoomcamp/master/cohorts/2024/05-deployment/homework/model1.bin'], returncode=0)"
            ]
          },
          "metadata": {},
          "execution_count": 16
        }
      ]
    },
    {
      "cell_type": "code",
      "source": [
        "prefix = \"https://raw.githubusercontent.com/DataTalksClub/machine-learning-zoomcamp/master/cohorts/2024/05-deployment/homework\"\n",
        "file_url = f\"{prefix}/dv.bin\"\n",
        "subprocess.run([\"wget\", file_url])"
      ],
      "metadata": {
        "colab": {
          "base_uri": "https://localhost:8080/"
        },
        "id": "SlM_z6cCA2iB",
        "outputId": "9406b2c3-a18f-45cc-98ce-1e4f36b2d8a5"
      },
      "execution_count": 17,
      "outputs": [
        {
          "output_type": "execute_result",
          "data": {
            "text/plain": [
              "CompletedProcess(args=['wget', 'https://raw.githubusercontent.com/DataTalksClub/machine-learning-zoomcamp/master/cohorts/2024/05-deployment/homework/dv.bin'], returncode=0)"
            ]
          },
          "metadata": {},
          "execution_count": 17
        }
      ]
    },
    {
      "cell_type": "code",
      "source": [
        "import pickle"
      ],
      "metadata": {
        "id": "J043yQAkCQ_T"
      },
      "execution_count": 18,
      "outputs": []
    },
    {
      "cell_type": "code",
      "source": [
        "with open(\"model1.bin\", 'rb') as file:\n",
        "    model = pickle.load(file)"
      ],
      "metadata": {
        "id": "a71xA7VNCIY2"
      },
      "execution_count": 21,
      "outputs": []
    },
    {
      "cell_type": "code",
      "source": [
        "with open(\"dv.bin\", 'rb') as file:\n",
        "    d = pickle.load(file)"
      ],
      "metadata": {
        "id": "QF4gc1U5CftT"
      },
      "execution_count": 23,
      "outputs": []
    },
    {
      "cell_type": "code",
      "source": [
        "example = {\"job\": \"management\", \"duration\": 400, \"poutcome\": \"success\"}"
      ],
      "metadata": {
        "id": "Ht-C3HvBCrIC"
      },
      "execution_count": 25,
      "outputs": []
    },
    {
      "cell_type": "code",
      "source": [
        "X = d.transform([example])"
      ],
      "metadata": {
        "id": "hY1Lmxo0CyO6"
      },
      "execution_count": 26,
      "outputs": []
    },
    {
      "cell_type": "code",
      "source": [
        "X"
      ],
      "metadata": {
        "colab": {
          "base_uri": "https://localhost:8080/"
        },
        "id": "ms7yYbfHC1SC",
        "outputId": "817f2fcc-5413-4390-8c40-79533d9dc78c"
      },
      "execution_count": 27,
      "outputs": [
        {
          "output_type": "execute_result",
          "data": {
            "text/plain": [
              "array([[400.,   0.,   0.,   0.,   0.,   1.,   0.,   0.,   0.,   0.,   0.,\n",
              "          0.,   0.,   0.,   0.,   1.,   0.]])"
            ]
          },
          "metadata": {},
          "execution_count": 27
        }
      ]
    },
    {
      "cell_type": "code",
      "source": [
        "y_pred = model.predict_proba(X)[0][1]"
      ],
      "metadata": {
        "id": "-WUWPgjJC3_B"
      },
      "execution_count": 31,
      "outputs": []
    },
    {
      "cell_type": "code",
      "source": [
        "y_pred"
      ],
      "metadata": {
        "colab": {
          "base_uri": "https://localhost:8080/"
        },
        "id": "xw2L0SZqC8F0",
        "outputId": "ffbfd896-5ee0-4411-cbbf-973e324f9fc7"
      },
      "execution_count": 33,
      "outputs": [
        {
          "output_type": "execute_result",
          "data": {
            "text/plain": [
              "0.7590966516879658"
            ]
          },
          "metadata": {},
          "execution_count": 33
        }
      ]
    },
    {
      "cell_type": "markdown",
      "source": [
        "Question 03. 0.759."
      ],
      "metadata": {
        "id": "76wsmyA2DD9Z"
      }
    },
    {
      "cell_type": "code",
      "source": [
        "!pipenv install flask gunicorn pyngrok"
      ],
      "metadata": {
        "colab": {
          "base_uri": "https://localhost:8080/"
        },
        "id": "jxQ-Mg1mDtQZ",
        "outputId": "6b0a9284-8581-4f57-c067-c0b8e221e8d6"
      },
      "execution_count": 35,
      "outputs": [
        {
          "output_type": "stream",
          "name": "stdout",
          "text": [
            "To activate this project's virtualenv, run \u001b[33mpipenv shell\u001b[0m.\n",
            "Alternatively, run a command inside the virtualenv with \u001b[33mpipenv run\u001b[0m.\n",
            "\u001b[1;32mInstalling flask...\u001b[0m\n",
            "✔ Installation Succeeded\n",
            "\u001b[1;32mInstalling gunicorn...\u001b[0m\n",
            "✔ Installation Succeeded\n",
            "\u001b[1;32mInstalling pyngrok...\u001b[0m\n",
            "✔ Installation Succeeded\n",
            "\u001b[?25lBuilding requirements...\n",
            "\u001b[2KResolving dependencies...\n",
            "\u001b[2K✔ Success!\n",
            "\u001b[2K\u001b[32m⠙\u001b[0m Locking packages...\n",
            "\u001b[1A\u001b[2K\u001b[?25lBuilding requirements...\n",
            "\u001b[2KResolving dependencies...\n",
            "\u001b[2K✔ Success!\n",
            "\u001b[2K\u001b[32m⠦\u001b[0m Locking packages...\n",
            "\u001b[1A\u001b[2KTo activate this project's virtualenv, run \u001b[33mpipenv shell\u001b[0m.\n",
            "Alternatively, run a command inside the virtualenv with \u001b[33mpipenv run\u001b[0m.\n",
            "\u001b[1mInstalling dependencies from Pipfile.lock (e13cd6)...\u001b[0m\n",
            "\u001b[32mAll dependencies are now up-to-date!\u001b[0m\n",
            "\u001b[1mInstalling dependencies from Pipfile.lock (e13cd6)...\u001b[0m\n"
          ]
        }
      ]
    },
    {
      "cell_type": "code",
      "source": [
        "import requests"
      ],
      "metadata": {
        "id": "D2u_6Lo_QU1G"
      },
      "execution_count": 57,
      "outputs": []
    },
    {
      "cell_type": "code",
      "source": [
        "url = 'http://localhost:5001/predict'\n",
        "client = {\"job\": \"student\", \"duration\": 280, \"poutcome\": \"failure\"}\n",
        "requests.post(url, json=client).json()"
      ],
      "metadata": {
        "id": "zkwr8OwFQL3N"
      },
      "execution_count": null,
      "outputs": []
    },
    {
      "cell_type": "markdown",
      "source": [
        "Question 04. 0.335."
      ],
      "metadata": {
        "id": "mLzH4_S8QkyT"
      }
    },
    {
      "cell_type": "code",
      "source": [
        "!docker pull svizor/zoomcamp-model:3.11.5-slim"
      ],
      "metadata": {
        "id": "BC1DtNKsR_2L"
      },
      "execution_count": null,
      "outputs": []
    },
    {
      "cell_type": "markdown",
      "source": [
        "Question 05. 130 MB."
      ],
      "metadata": {
        "id": "QtmOW4luSCNR"
      }
    },
    {
      "cell_type": "code",
      "source": [
        "!docker build -t homework ."
      ],
      "metadata": {
        "id": "94Q17k9iTAxB"
      },
      "execution_count": null,
      "outputs": []
    },
    {
      "cell_type": "code",
      "source": [
        "!docker run -it --rm -p 5001:5001 homework:latest"
      ],
      "metadata": {
        "id": "WBo7DH7DTGic"
      },
      "execution_count": null,
      "outputs": []
    },
    {
      "cell_type": "code",
      "source": [
        "url = \"http://localhost:5001/predict\"\n",
        "client = {\"job\": \"management\", \"duration\": 400, \"poutcome\": \"success\"}\n",
        "requests.post(url, json=client).json()"
      ],
      "metadata": {
        "id": "QrXbQYu1S0VL"
      },
      "execution_count": null,
      "outputs": []
    },
    {
      "cell_type": "code",
      "source": [
        "client = {\"job\": \"management\", \"duration\": 400, \"poutcome\": \"success\"}\n",
        "X = d.transform([client])\n",
        "y_pred = model.predict_proba(X)[0][1]\n",
        "y_pred"
      ],
      "metadata": {
        "colab": {
          "base_uri": "https://localhost:8080/"
        },
        "id": "u7lq2cFFT6cL",
        "outputId": "7df5b293-0cfa-429a-c21c-0791d50b1cbb"
      },
      "execution_count": 62,
      "outputs": [
        {
          "output_type": "execute_result",
          "data": {
            "text/plain": [
              "0.7590966516879658"
            ]
          },
          "metadata": {},
          "execution_count": 62
        }
      ]
    },
    {
      "cell_type": "markdown",
      "source": [
        "Question 06. 0.757."
      ],
      "metadata": {
        "id": "BNLkb9K5USnm"
      }
    }
  ]
}